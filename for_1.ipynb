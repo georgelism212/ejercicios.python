{
  "nbformat": 4,
  "nbformat_minor": 0,
  "metadata": {
    "colab": {
      "provenance": [],
      "authorship_tag": "ABX9TyPy+BXORULIaUmNgbUa8p4w",
      "include_colab_link": true
    },
    "kernelspec": {
      "name": "python3",
      "display_name": "Python 3"
    },
    "language_info": {
      "name": "python"
    }
  },
  "cells": [
    {
      "cell_type": "markdown",
      "metadata": {
        "id": "view-in-github",
        "colab_type": "text"
      },
      "source": [
        "<a href=\"https://colab.research.google.com/github/georgelism212/ejercicios.python/blob/main/for_1.ipynb\" target=\"_parent\"><img src=\"https://colab.research.google.com/assets/colab-badge.svg\" alt=\"Open In Colab\"/></a>"
      ]
    },
    {
      "cell_type": "code",
      "source": [
        "print (\"bienvenido a google colaboratory\")\n",
        "# progama no. 1 instruccuion for\n",
        "# mostrar la suma de los 10 primeros numeros naturales\n",
        "\n",
        "# input\n",
        "\n",
        "# processsing\n",
        "suma = 0\n",
        "serie = list (range(1,11))\n",
        "for 1 in range(1,11):\n",
        "   suma = suma + 1\n",
        "\n",
        "# output\n",
        "print(\"la suma es: \"+ str(suma))\n",
        "print(serie)\n",
        "\n"
      ],
      "metadata": {
        "id": "Wu4Qi-lrUbD8"
      },
      "execution_count": null,
      "outputs": []
    },
    {
      "cell_type": "code",
      "source": [
        "# ejercicio no. 2 mostrar los numeros del 1 al 10, sin usar instrucciones repetitivas\n",
        "\n",
        "print(1)\n",
        "print(2)\n",
        "print(3)\n",
        "print(4)\n",
        "print(5)\n",
        "print(6)\n",
        "print(7)\n",
        "print(8)\n",
        "print(9)\n",
        "print(10)\n"
      ],
      "metadata": {
        "id": "nXHBq4NETyl2"
      },
      "execution_count": null,
      "outputs": []
    },
    {
      "cell_type": "code",
      "source": [
        "# ejercicio no. 3 mostrar los numeros del 1 al 10, usando la instruccion while\n",
        "\n",
        "i = 1\n",
        "while (1<= 10):\n",
        "   print(i)\n",
        "   i = i + 1\n"
      ],
      "metadata": {
        "id": "PZbvv_zLUl8k"
      },
      "execution_count": null,
      "outputs": []
    },
    {
      "cell_type": "code",
      "source": [
        "# ejercio no. 4 mostrar los numeros del  1 al 10 usando la i instruccion for\n",
        "\n",
        "for i in range(1,11):\n",
        "   print(i)\n"
      ],
      "metadata": {
        "id": "Yieva71OVKTq"
      },
      "execution_count": null,
      "outputs": []
    },
    {
      "cell_type": "code",
      "source": [],
      "metadata": {
        "id": "_roG-M-1V8Bq"
      },
      "execution_count": null,
      "outputs": []
    },
    {
      "cell_type": "code",
      "source": [
        "# ejercicio no 5 mostrar los numeros del 1 al 10 usanddo la instruccion for y una lista\n",
        "mi_lista = [1,2,3,4,5,6,7,8,9,10]\n",
        "for i in mi_lista:\n",
        "  print(i)\n"
      ],
      "metadata": {
        "id": "8bjtNWOJVpF8"
      },
      "execution_count": null,
      "outputs": []
    },
    {
      "cell_type": "code",
      "source": [
        "# ejercicio no 6 mostrar una frase 10 veces, usando la instruccion for y una lista\n",
        " mi_lista = [1,2,3,4,5,6,7,8,9,10]\n",
        " for i in mi_lista:\n",
        "print(f\"[1] guanenta 200 ños\")"
      ],
      "metadata": {
        "id": "i3oX9gX1WPfH"
      },
      "execution_count": null,
      "outputs": []
    },
    {
      "cell_type": "code",
      "source": [
        "# ejercicio no 7 mostrar la silaba inicial de os dias de la semana, usando for y una lista\n",
        "\n",
        "dias semana = [\"lu\", \"mar\", \"mi\", \"ju\", \"vi\", \"sa\", \"do\"]\n",
        "for i in dias_semana:\n",
        "  print(i)\n"
      ],
      "metadata": {
        "id": "q9CYNikCXWRx"
      },
      "execution_count": null,
      "outputs": []
    },
    {
      "cell_type": "code",
      "source": [
        "# ejercicono 8 mostrar una lista de distritos tipod de datos usando for\n",
        "\n",
        "mi listica = [1, 3,14 9, True, \"mairen\", 8, \"guanenta\"\n",
        "for i in mi_listica:\n",
        "    print(i)\n",
        "\n"
      ],
      "metadata": {
        "id": "7zH8J-GYYIeP"
      },
      "execution_count": null,
      "outputs": []
    },
    {
      "cell_type": "code",
      "source": [
        "# ejercicio 9 ingresar nu nombre y mostrarlo letra por letra usando for\n",
        "\n",
        "nombre= input(\"digite su nombre: \")\n",
        "\n",
        "for i in nombre:\n",
        "  print(i)\n"
      ],
      "metadata": {
        "id": "DYWOA9IDZkcp"
      },
      "execution_count": null,
      "outputs": []
    },
    {
      "cell_type": "code",
      "source": [
        "# ejercicio 10 ingrese su nombre y mostrarlo letra por letra, usando for\n",
        "# reemplanzando la vocal e por un asterisco\n",
        "\n",
        "nombre= input(\"digite su nombre: \")\n",
        "\n",
        "for i in nombre:\n",
        "  if i == 'e':\n",
        "    print(\"*\")\n",
        "    else:\n",
        "      print(i)\n",
        "\n"
      ],
      "metadata": {
        "id": "xaqdzjZraBF7"
      },
      "execution_count": null,
      "outputs": []
    },
    {
      "cell_type": "markdown",
      "source": [],
      "metadata": {
        "id": "VdyertQWT2zZ"
      }
    },
    {
      "cell_type": "code",
      "source": [
        "# ejercicio no 11 ingresar su nombre y mostrarlo letra a letra en mayuscula, usando for\n",
        "\n",
        "nombre = input(\"digite su nombre: \")\n",
        "\n",
        "for i in nombre:\n",
        "  print(i.upper())\n",
        "\n",
        "\n"
      ],
      "metadata": {
        "id": "Ev9wSffAb3nH"
      },
      "execution_count": null,
      "outputs": []
    },
    {
      "cell_type": "code",
      "source": [
        "# 1. Dada la siguiente lista de números [20,21,30,41,50,51,20], mostrar en pantalla solo los que no terminan en uno (1).\n",
        "\n",
        "numeros = [20, 21, 30, 41, 50, 51, 20]\n",
        "\n",
        "\n",
        "for numero in numeros:\n",
        "    if numero % 10 != 1:\n",
        "        print(numero)"
      ],
      "metadata": {
        "id": "7Dumep5KGmy3"
      },
      "execution_count": null,
      "outputs": []
    },
    {
      "cell_type": "code",
      "source": [
        "# 2. Mostrar mil veces la palabra \"Programación\"\n",
        "\n",
        "for _ in range(1000):\n",
        "    print(\"Programación\")"
      ],
      "metadata": {
        "id": "a3QyHZzQIyDA"
      },
      "execution_count": null,
      "outputs": []
    },
    {
      "cell_type": "code",
      "source": [
        "# 3. Del conjunto de cadenas [\"E\", \"F\", \"M\", \"A\"] que corresponde a las iniciales de los 4 primeros meses del año, mostrar el nombre completo de dichos meses.\n",
        "\n",
        "meses = {\n",
        "    \"E\": \"Enero\",\n",
        "    \"F\": \"Febrero\",\n",
        "    \"M\": \"Marzo\",\n",
        "    \"A\": \"Abril\"\n",
        "\n",
        "}\n",
        "iniciales = [\"E\", \"F\", \"M\", \"A\"]\n",
        "\n",
        "nombres_completos = [meses[inicial] for inicial in iniciales]\n",
        "\n",
        "print(nombres_completos)"
      ],
      "metadata": {
        "id": "vz4lV5W-JUkl"
      },
      "execution_count": null,
      "outputs": []
    },
    {
      "cell_type": "code",
      "source": [
        "# 4. Leer un texto y determinar cuántas veces dicho texto contiene cada una de las vocales en minúscula y mayúscula.\n",
        "\n",
        "texto = input(\"Digite el texto: \")\n",
        "\n",
        "MAYUSCULA = [\"A\",\"E\",\"I\",\"O\",\"U\"]\n",
        "minuscula = [\"a\",\"e\",\"i\",\"o\",\"u\"]\n",
        "\n",
        "a = 0\n",
        "A = 0\n",
        "e = 0\n",
        "E = 0\n",
        "z = 0\n",
        "I = 0\n",
        "o = 0\n",
        "O = 0\n",
        "u = 0\n",
        "U = 0\n",
        "\n",
        "for i in texto:\n",
        "  if i == \"a\":\n",
        "    a += 1\n",
        "  elif i == \"A\":\n",
        "    A += 1\n",
        "  elif i == \"e\":\n",
        "    e += 1\n",
        "  elif i == \"E\":\n",
        "    E += 1\n",
        "  elif i == \"i\":\n",
        "    z += 1\n",
        "  elif i == \"I\":\n",
        "    I += 1\n",
        "  elif i == \"o\":\n",
        "    o += 1\n",
        "  elif i == \"O\":\n",
        "    O += 1\n",
        "  elif i == \"u\":\n",
        "    u += 1\n",
        "  elif i == \"U\":\n",
        "    U += 1\n",
        "\n",
        "print(\"En su texto hay \" + str(a) + \" a\" \" minusculas\")\n",
        "print(\"En su texto hay \" + str(A) + \" A\" \" Mayusculas\")\n",
        "print(\"En su texto hay \" + str(e) + \" e\" \" Mayusculas\")\n",
        "print(\"En su texto hay \" + str(E) + \" E\" \" Mayusculas\")\n",
        "print(\"En su texto hay \" + str(z) + \" i\" \" Mayusculas\")\n",
        "print(\"En su texto hay \" + str(I) + \" I\" \" Mayusculas\")\n",
        "print(\"En su texto hay \" + str(o) + \" o\" \" Mayusculas\")\n",
        "print(\"En su texto hay \" + str(O) + \" O\" \" Mayusculas\")\n",
        "print(\"En su texto hay \" + str(u) + \" u\" \" Mayusculas\")\n",
        "print(\"En su texto hay \" + str(U) + \" U\" \" Mayusculas\")"
      ],
      "metadata": {
        "id": "t437zUFmMFd8"
      },
      "execution_count": null,
      "outputs": []
    },
    {
      "cell_type": "code",
      "source": [
        "# 5. Consulte cómo se representa en un diagrama de flujo la instrucción repetitiva for. Agregue lo consultado en el archivo README del respositorio, o en una celta de texto del cuaderno de Google Colab.\n",
        "\n",
        "La instrucción for en un diagrama de flujo se representa con un símbolo de inicio, seguido de la inicialización y condición de repetición dentro del bucle.\n",
        "Luego, se muestra el cuerpo del bucle y, finalmente, un símbolo de fin para indicar el final del bucle.\n"
      ],
      "metadata": {
        "id": "rd9V1YYfOIlr"
      },
      "execution_count": null,
      "outputs": []
    },
    {
      "cell_type": "code",
      "source": [
        "# 6. Leer 20 números enteros y averiguar cuántos son pares y cuántos son impares\n",
        "\n"
      ],
      "metadata": {
        "id": "hvL2on92QpbF"
      },
      "execution_count": null,
      "outputs": []
    },
    {
      "cell_type": "code",
      "source": [
        " # Programa que averigüe e imprima cuántos múltiplos de 7, y cuántos múltiplos de 9, hay en los números comprendidos entre 1000 y 5000.\n",
        "\n",
        "inicio = 1000\n",
        "fin = 5000\n",
        "\n",
        "\n",
        "multiplos_7 = 0\n",
        "multiplos_9 = 0\n",
        "\n",
        "for i in range(inicio, fin + 1):\n",
        "    if i % 7 == 0:\n",
        "        multiplos_7 += 1\n",
        "    if i % 9 == 0:\n",
        "        multiplos_9 += 1\n",
        "\n",
        "\n",
        "print(\"Cantidad de múltiplos de 7 entre 1000 y 5000:\", multiplos_7)\n",
        "print(\"Cantidad de múltiplos de 9 entre 1000 y 5000:\", multiplos_9)"
      ],
      "metadata": {
        "id": "oJiwGpnmUQk_"
      },
      "execution_count": null,
      "outputs": []
    },
    {
      "cell_type": "code",
      "source": [
        "# 8. Simular el lanzamiento de N dados, y contar cuántas veces cae cada cara, añadiendo un histograma para cada uno.\n",
        "# El histograma puede ser creado con asteriscos o cualquier otro caracter.\n",
        "\n",
        "import random\n",
        "\n",
        "N = 3\n",
        "lanzamientos = 1000  # Número de lanzamientos\n",
        "\n",
        "frecuencias = {i: 0 for i in range(N, N*6+1)}\n",
        "\n",
        "for _ in range(lanzamientos):\n",
        "    suma_caras = sum(random.randint(1, 6) for _ in range(N))\n",
        "    frecuencias[suma_caras] += 1\n",
        "\n",
        "print(\"Conteo de cada cara:\")\n",
        "for cara, frecuencia in frecuencias.items():\n",
        "    print(f\"Cara {cara}: {'*' * frecuencia}\")\n",
        "\n"
      ],
      "metadata": {
        "id": "rjNpIwCWg_li"
      },
      "execution_count": null,
      "outputs": []
    },
    {
      "cell_type": "code",
      "source": [],
      "metadata": {
        "id": "vQBFL1yMrkjH"
      },
      "execution_count": null,
      "outputs": []
    }
  ]
}